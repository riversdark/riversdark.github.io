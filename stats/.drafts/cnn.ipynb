{
  "cells": [
    {
      "cell_type": "markdown",
      "metadata": {
        "id": "wwEzgnhWgIVr"
      },
      "source": [
        "\n",
        "# CNN for image classification using PyTorch\n",
        "\n",
        "In this section, we follow Chap. 8 of the [Deep Learning With PyTorch](https://pytorch.org/assets/deep-learning/Deep-Learning-with-PyTorch.pdf) book, and illustrate how to fit a CNN to a two-class version of CIFAR. We modify the code from [here](https://github.com/deep-learning-with-pytorch/dlwpt-code/blob/master/p1ch8/1_convolution.ipynb)\n"
      ]
    },
    {
      "cell_type": "code",
      "execution_count": null,
      "metadata": {
        "id": "RtO_TmeDgRUp"
      },
      "outputs": [],
      "source": [
        "import numpy as np\n",
        "import matplotlib.pyplot as plt\n",
        "import itertools\n",
        "import time\n",
        "from functools import partial\n",
        "import os\n",
        "import collections"
      ]
    },
    {
      "cell_type": "code",
      "execution_count": null,
      "metadata": {
        "colab": {
          "base_uri": "https://localhost:8080/"
        },
        "id": "wTzpnH_bgjD_",
        "outputId": "5d00f8b1-85a7-4ac9-912b-78e34d02bd84"
      },
      "outputs": [],
      "source": [
        "import torch\n",
        "import torch.nn as nn\n",
        "import torch.nn.functional as F\n",
        "import torch.optim as optim\n",
        "import torchvision\n",
        "\n",
        "print(\"torch version {}\".format(torch.__version__))\n",
        "if torch.cuda.is_available():\n",
        "    print(torch.cuda.get_device_name(0))\n",
        "    print(\"current device {}\".format(torch.cuda.current_device()))\n",
        "else:\n",
        "    print(\"Torch cannot find GPU\")\n",
        "\n",
        "use_cuda = torch.cuda.is_available()\n",
        "device = torch.device(\"cuda:0\" if use_cuda else \"cpu\")"
      ]
    },
    {
      "cell_type": "code",
      "execution_count": null,
      "metadata": {
        "id": "ePXi5pgOvzcf"
      },
      "outputs": [],
      "source": [
        "def set_seed(seed):\n",
        "    np.random.seed(seed)\n",
        "    torch.manual_seed(seed)\n",
        "    torch.cuda.manual_seed_all(seed)"
      ]
    },
    {
      "cell_type": "markdown",
      "metadata": {
        "id": "I-OIHr6Ahgdj"
      },
      "source": [
        "# Get the data\n",
        "\n",
        "We standardize the data. (The mean/std of the RGB channels are precomputed in the MLP version of this colab.)\n"
      ]
    },
    {
      "cell_type": "code",
      "execution_count": null,
      "metadata": {
        "colab": {
          "base_uri": "https://localhost:8080/",
          "height": 117,
          "referenced_widgets": [
            "8ffa87f9b83f4decabddedc7b11b42d1",
            "64d2f5290589473bb799f9745a591c25",
            "f8c0fc1c00c442b2b6d89bb34141afb3",
            "094ba7067c6f4fedb1a79fe59ee81cca",
            "3a0040c40cd34465ac9f790332b71542",
            "809c869b098b42fc898afacb83c53e91",
            "1f88cab621f541bf825acda9acf1df42",
            "717fa68813bc459584b0ed360f94d2a5"
          ]
        },
        "id": "rJkOHhx8hnAy",
        "outputId": "f6888f6c-796e-4ab1-9c1b-c6a2cfba0481"
      },
      "outputs": [],
      "source": [
        "class_names = [\"airplane\", \"automobile\", \"bird\", \"cat\", \"deer\", \"dog\", \"frog\", \"horse\", \"ship\", \"truck\"]\n",
        "\n",
        "from torchvision import datasets, transforms\n",
        "\n",
        "data_path = \"data\"\n",
        "cifar10 = datasets.CIFAR10(\n",
        "    data_path,\n",
        "    train=True,\n",
        "    download=True,\n",
        "    transform=transforms.Compose(\n",
        "        [transforms.ToTensor(), transforms.Normalize((0.4915, 0.4823, 0.4468), (0.2470, 0.2435, 0.2616))]\n",
        "    ),\n",
        ")\n",
        "\n",
        "cifar10_val = datasets.CIFAR10(\n",
        "    data_path,\n",
        "    train=False,\n",
        "    download=True,\n",
        "    transform=transforms.Compose(\n",
        "        [transforms.ToTensor(), transforms.Normalize((0.4915, 0.4823, 0.4468), (0.2470, 0.2435, 0.2616))]\n",
        "    ),\n",
        ")"
      ]
    },
    {
      "cell_type": "code",
      "execution_count": null,
      "metadata": {
        "id": "iqZRbS5Ih9pN"
      },
      "outputs": [],
      "source": [
        "label_map = {0: 0, 2: 1}\n",
        "class_names = [\"plane\", \"bird\"]\n",
        "nclasses = 2\n",
        "cifar2 = [(img, label_map[label]) for img, label in cifar10 if label in [0, 2]]\n",
        "cifar2_val = [(img, label_map[label]) for img, label in cifar10_val if label in [0, 2]]"
      ]
    },
    {
      "cell_type": "markdown",
      "metadata": {
        "id": "YNUUJrQugmNE"
      },
      "source": [
        "# Basics of convolution\n",
        "\n",
        "Lets apply a set of `nfeatures` convolutional kernels to a gray scale image."
      ]
    },
    {
      "cell_type": "code",
      "execution_count": null,
      "metadata": {
        "colab": {
          "base_uri": "https://localhost:8080/"
        },
        "id": "DXyymfW-gjXf",
        "outputId": "d4146b17-693a-462e-d35d-3aaac25e85c1"
      },
      "outputs": [],
      "source": [
        "img, label = cifar2[0]\n",
        "img_t = img.unsqueeze(0)\n",
        "print(img_t.shape)\n",
        "\n",
        "nfeatures = 16\n",
        "kernel_size = 3\n",
        "conv = nn.Conv2d(3, nfeatures, kernel_size=kernel_size)\n",
        "output = conv(img_t)\n",
        "print(output.shape)"
      ]
    },
    {
      "cell_type": "markdown",
      "metadata": {
        "id": "CbnqS7Cui9Kt"
      },
      "source": [
        "Now we adding padding to ensure output size is same as input."
      ]
    },
    {
      "cell_type": "code",
      "execution_count": null,
      "metadata": {
        "colab": {
          "base_uri": "https://localhost:8080/"
        },
        "id": "GLCDqJ03i03q",
        "outputId": "8eece124-fd12-41d2-e106-5b2a3b13118d"
      },
      "outputs": [],
      "source": [
        "nfeatures = 16\n",
        "kernel_size = 3\n",
        "pad = kernel_size // 2\n",
        "conv = nn.Conv2d(3, nfeatures, kernel_size=kernel_size, padding=pad)\n",
        "\n",
        "output = conv(img_t)\n",
        "print(output.shape)"
      ]
    },
    {
      "cell_type": "code",
      "execution_count": null,
      "metadata": {
        "colab": {
          "base_uri": "https://localhost:8080/",
          "height": 216
        },
        "id": "IbnKy4jHmQTG",
        "outputId": "54a374f7-3f12-4e5f-d2f1-c6b4b351b846"
      },
      "outputs": [],
      "source": [
        "def show_results(img_batch, output_batch, index=0, channel=0):\n",
        "    ax1 = plt.subplot(1, 2, 1)\n",
        "    img = img_batch[index]\n",
        "    plt.imshow(img.mean(0), cmap=\"gray\")\n",
        "    plt.title(\"input\")\n",
        "    plt.subplot(1, 2, 2)  # , sharex=ax1, sharey=ax1)\n",
        "    plt.title(\"output\")\n",
        "    out = output_batch[index, channel]\n",
        "    plt.imshow(out.detach(), cmap=\"gray\")\n",
        "    plt.show()\n",
        "\n",
        "\n",
        "show_results(img_t, output)"
      ]
    },
    {
      "cell_type": "markdown",
      "metadata": {
        "id": "JVVXo_IOn6fV"
      },
      "source": [
        "Currently the filter parameters are random."
      ]
    },
    {
      "cell_type": "code",
      "execution_count": null,
      "metadata": {
        "colab": {
          "base_uri": "https://localhost:8080/"
        },
        "id": "LZq-NEKKn9o3",
        "outputId": "c2691cdc-349c-4d22-bc63-2b997d812919"
      },
      "outputs": [],
      "source": [
        "print(conv)\n",
        "print(conv.weight.shape)  # nfeatures x nchannels x kernel x kernel\n",
        "print(conv.bias.shape)  # nfeatures\n",
        "print(conv.weight[0, :, :, :])"
      ]
    },
    {
      "cell_type": "markdown",
      "metadata": {
        "id": "Sgu8ZdFOnKhH"
      },
      "source": [
        "Let's make the first filter just be an averaging operation."
      ]
    },
    {
      "cell_type": "code",
      "execution_count": null,
      "metadata": {
        "colab": {
          "base_uri": "https://localhost:8080/",
          "height": 403
        },
        "id": "RMEzbPVImrGc",
        "outputId": "0d426a8a-c73f-45f2-df39-0b3e8a08575f"
      },
      "outputs": [],
      "source": [
        "with torch.no_grad():\n",
        "    conv.bias.zero_()\n",
        "\n",
        "with torch.no_grad():\n",
        "    conv.weight.fill_(1.0 / 9.0)\n",
        "print(conv.weight[0, :, :, :])\n",
        "\n",
        "output = conv(img_t)\n",
        "show_results(img_t, output)"
      ]
    },
    {
      "cell_type": "markdown",
      "metadata": {
        "id": "2nDkp2_2oIEg"
      },
      "source": [
        "Let's make the first filter be a vertical edge detector."
      ]
    },
    {
      "cell_type": "code",
      "execution_count": null,
      "metadata": {
        "colab": {
          "base_uri": "https://localhost:8080/",
          "height": 216
        },
        "id": "0jFq8d13nfdx",
        "outputId": "60cd9994-7d0e-4eef-9930-96b1580af73a"
      },
      "outputs": [],
      "source": [
        "conv = nn.Conv2d(3, 1, kernel_size=3, padding=1)\n",
        "\n",
        "with torch.no_grad():\n",
        "    conv.weight[:] = torch.tensor([[-1.0, 0.0, 1.0], [-1.0, 0.0, 1.0], [-1.0, 0.0, 1.0]])\n",
        "    conv.bias.zero_()\n",
        "\n",
        "output = conv(img_t)\n",
        "show_results(img_t, output)"
      ]
    },
    {
      "cell_type": "markdown",
      "metadata": {
        "id": "Hna7FLWDpdey"
      },
      "source": [
        "# Max-pooling\n",
        "\n",
        "We can reduce the size of the internal feature maps by using max-pooling."
      ]
    },
    {
      "cell_type": "code",
      "execution_count": null,
      "metadata": {
        "colab": {
          "base_uri": "https://localhost:8080/",
          "height": 233
        },
        "id": "3g4_2jqEoTuB",
        "outputId": "610d4668-0dcb-46be-8f36-d63b3a716524"
      },
      "outputs": [],
      "source": [
        "pool = nn.MaxPool2d(2)\n",
        "output = pool(img_t)\n",
        "print(output.shape)\n",
        "\n",
        "show_results(img_t, output)"
      ]
    },
    {
      "cell_type": "markdown",
      "metadata": {
        "id": "PkA_bONKrA0x"
      },
      "source": [
        "# Making our first CNN"
      ]
    },
    {
      "cell_type": "code",
      "execution_count": null,
      "metadata": {
        "colab": {
          "base_uri": "https://localhost:8080/"
        },
        "id": "p-j2s3Y5q0jC",
        "outputId": "63cca1c3-ec98-4ad6-a8b2-6c86919a17b8"
      },
      "outputs": [],
      "source": [
        "import torch.nn.functional as F\n",
        "\n",
        "\n",
        "class Net(nn.Module):\n",
        "    def __init__(self, nclasses, img, nchans1=16, nhidden=32):\n",
        "        super().__init__()\n",
        "        nchannels, nrows, ncols = img.shape\n",
        "        self.nchans1 = nchans1\n",
        "        self.nchans2 = nchans1 // 2\n",
        "        self.nhidden = nhidden\n",
        "        self.nclasses = nclasses\n",
        "        self.conv1 = nn.Conv2d(nchannels, self.nchans1, kernel_size=3, padding=1)\n",
        "        self.conv2 = nn.Conv2d(nchans1, self.nchans2, kernel_size=3, padding=1)\n",
        "        # size of input to fc1 will be  8 * nrows/4 * ncols/4,\n",
        "        # We divide by 4 since we apply 2 maxpooling layers with size 2\n",
        "        # For a 32x32 image, this becomes 8x8 times 8 channnels.\n",
        "        self.nflat = nrows // 4 * ncols // 4\n",
        "        self.fc1 = nn.Linear(self.nchans2 * self.nflat, self.nhidden)\n",
        "        self.fc2 = nn.Linear(self.nhidden, self.nclasses)\n",
        "\n",
        "    def forward(self, x):\n",
        "        out = F.max_pool2d(torch.tanh(self.conv1(x)), 2)\n",
        "        out = F.max_pool2d(torch.tanh(self.conv2(out)), 2)\n",
        "        out = out.view(-1, self.nchans2 * self.nflat)\n",
        "        out = torch.tanh(self.fc1(out))\n",
        "        out = self.fc2(out)\n",
        "        return out\n",
        "\n",
        "\n",
        "set_seed(0)\n",
        "img_batch = img_t.to(device=device)\n",
        "model = Net(nclasses, img_batch[0]).to(device=device)\n",
        "out_batch = model(img_batch)\n",
        "print(out_batch.shape)\n",
        "print(out_batch)"
      ]
    },
    {
      "cell_type": "markdown",
      "metadata": {
        "id": "78RzWsB3nF2o"
      },
      "source": [
        "# Training loop"
      ]
    },
    {
      "cell_type": "code",
      "execution_count": null,
      "metadata": {
        "id": "jnzRkdaLsOtm"
      },
      "outputs": [],
      "source": [
        "import datetime\n",
        "\n",
        "\n",
        "def training_loop(n_epochs, optimizer, model, loss_fn, train_loader, l2_regularizer=0, print_every=5):\n",
        "    for epoch in range(1, n_epochs + 1):\n",
        "        loss_train = 0.0\n",
        "        for imgs, labels in train_loader:\n",
        "            imgs = imgs.to(device=device)\n",
        "            labels = labels.to(device=device)\n",
        "            outputs = model(imgs)\n",
        "            loss = loss_fn(outputs, labels)\n",
        "\n",
        "            l2_norm = sum(p.pow(2.0).sum() for p in model.parameters())\n",
        "            loss = loss + l2_regularizer * l2_norm\n",
        "\n",
        "            optimizer.zero_grad()\n",
        "            loss.backward()\n",
        "            optimizer.step()\n",
        "            loss_train += loss.item()\n",
        "\n",
        "        if epoch == 1 or epoch % print_every == 0:\n",
        "            print(\n",
        "                \"{} Epoch {}, Training loss {}\".format(datetime.datetime.now(), epoch, loss_train / len(train_loader))\n",
        "            )"
      ]
    },
    {
      "cell_type": "code",
      "execution_count": null,
      "metadata": {
        "colab": {
          "base_uri": "https://localhost:8080/"
        },
        "id": "urZLNnYhnVNG",
        "outputId": "84581110-9fd7-4c7a-baac-b8290dc31547"
      },
      "outputs": [],
      "source": [
        "train_loader = torch.utils.data.DataLoader(cifar2, batch_size=64, shuffle=True)\n",
        "\n",
        "model = Net(nclasses, img_batch[0]).to(device=device)\n",
        "optimizer = optim.SGD(model.parameters(), lr=1e-2)\n",
        "loss_fn = nn.CrossEntropyLoss()\n",
        "\n",
        "training_loop(\n",
        "    n_epochs=50,\n",
        "    optimizer=optimizer,\n",
        "    model=model,\n",
        "    loss_fn=loss_fn,\n",
        "    train_loader=train_loader,\n",
        ")"
      ]
    },
    {
      "cell_type": "markdown",
      "metadata": {
        "id": "x4zPGA_XntHO"
      },
      "source": [
        "# Validation accuracy"
      ]
    },
    {
      "cell_type": "code",
      "execution_count": null,
      "metadata": {
        "colab": {
          "base_uri": "https://localhost:8080/"
        },
        "id": "weB--S4FnVcQ",
        "outputId": "8930c375-6cd5-4c23-a3ee-9e5ee731dacb"
      },
      "outputs": [],
      "source": [
        "val_loader = torch.utils.data.DataLoader(cifar2_val, batch_size=64, shuffle=False)\n",
        "\n",
        "\n",
        "def accuracy(model, loader):\n",
        "    correct = 0\n",
        "    total = 0\n",
        "    with torch.no_grad():\n",
        "        for imgs, labels in loader:\n",
        "            imgs = imgs.to(device=device)\n",
        "            labels = labels.to(device=device)\n",
        "            outputs = model(imgs)\n",
        "            _, predicted = torch.max(outputs, dim=1)\n",
        "            total += labels.shape[0]  # batch size\n",
        "            correct += int((predicted == labels).sum())\n",
        "    accuracy = correct / total\n",
        "    return accuracy\n",
        "\n",
        "\n",
        "train_acc = accuracy(model, train_loader)\n",
        "val_acc = accuracy(model, val_loader)\n",
        "print([train_acc, val_acc])"
      ]
    },
    {
      "cell_type": "code",
      "execution_count": null,
      "metadata": {
        "colab": {
          "base_uri": "https://localhost:8080/"
        },
        "id": "j3ldjlvGuR2h",
        "outputId": "0e3e348e-7027-495a-9548-d9823bfd919a"
      },
      "outputs": [],
      "source": [
        "# Apply the model to a minibatch\n",
        "set_seed(0)\n",
        "dataiter = iter(train_loader)\n",
        "img_batch, label_batch = dataiter.next()\n",
        "print(img_batch.shape)\n",
        "img_batch = img_batch.to(device=device)\n",
        "outputs = model(img_batch)\n",
        "_, predicted = torch.max(outputs, dim=1)"
      ]
    },
    {
      "cell_type": "code",
      "execution_count": null,
      "metadata": {
        "colab": {
          "base_uri": "https://localhost:8080/",
          "height": 388
        },
        "id": "WlTmlw2tuonS",
        "outputId": "a4439d41-e160-4719-a123-fd973ace2b96"
      },
      "outputs": [],
      "source": [
        "def imshow(img, ax):\n",
        "    # img = img / 2 + 0.5     # unnormalize from -1..1 to 0..1\n",
        "    npimg = img.cpu().numpy()\n",
        "    ax.imshow(np.transpose(npimg, (1, 2, 0)), interpolation=\"nearest\")\n",
        "\n",
        "\n",
        "def plot_results(images, labels, pred_labels, nrows, ncols):\n",
        "    fig, axs = plt.subplots(nrows, ncols)\n",
        "    k = 0\n",
        "    for i in range(nrows):\n",
        "        for j in range(ncols):\n",
        "            ax = axs[i, j]\n",
        "            imshow(images[k], ax)\n",
        "            ttl = f\"{class_names[labels[k]]}, est {class_names[pred_labels[k]]}\"\n",
        "            ax.set_title(ttl, fontsize=8)\n",
        "            k += 1\n",
        "\n",
        "\n",
        "plot_results(img_batch, label_batch, predicted, 2, 4)"
      ]
    },
    {
      "cell_type": "markdown",
      "metadata": {
        "id": "CNy1PDlropBX"
      },
      "source": [
        "# Save/load model"
      ]
    },
    {
      "cell_type": "code",
      "execution_count": null,
      "metadata": {
        "id": "NfkpyYR3op6H"
      },
      "outputs": [],
      "source": [
        "out = model(img_batch)\n",
        "fname = os.path.join(data_path, \"birds_vs_airplanes.pt\")\n",
        "torch.save(model.state_dict(), fname)"
      ]
    },
    {
      "cell_type": "code",
      "execution_count": null,
      "metadata": {
        "id": "6NONMXTDv_6I"
      },
      "outputs": [],
      "source": [
        "loaded_model = Net(nclasses, img_batch[0]).to(device=device)\n",
        "loaded_model.load_state_dict(torch.load(fname, map_location=device))\n",
        "out2 = loaded_model(img_batch)\n",
        "torch.testing.assert_allclose(out, out2)"
      ]
    },
    {
      "cell_type": "markdown",
      "metadata": {
        "id": "-BVLFB4V6JNn"
      },
      "source": [
        "# Dropout\n",
        "\n",
        "We can use dropout as a form of regularization. Let's see how it works for a single convolutional layer. We pass in a single image of size 1x3x32x32 and get back a tensor of size 1x10x16x16, where 10 is the number of filters we choose, and size 16 arises because we use maxpool of 2."
      ]
    },
    {
      "cell_type": "code",
      "execution_count": null,
      "metadata": {
        "colab": {
          "base_uri": "https://localhost:8080/",
          "height": 267
        },
        "id": "xJHxImyr6Sfv",
        "outputId": "20b3410a-bef3-4508-be8d-ed4894ea8eb2"
      },
      "outputs": [],
      "source": [
        "class NetDropout(nn.Module):\n",
        "    def __init__(self, nclasses, img, nchans1=10, dropout_prob=0.4):\n",
        "        super().__init__()\n",
        "        nchannels, nrows, ncols = img.shape\n",
        "        self.conv1 = nn.Conv2d(nchannels, nchans1, kernel_size=3, padding=1)\n",
        "        self.conv1_dropout = nn.Dropout2d(dropout_prob)\n",
        "\n",
        "    def forward(self, x):\n",
        "        out = F.max_pool2d(torch.tanh(self.conv1(x)), 2)\n",
        "        out = self.conv1_dropout(out)\n",
        "        return out\n",
        "\n",
        "\n",
        "set_seed(0)\n",
        "print(img_t.shape)\n",
        "img_batch = img_t.to(device=device)  # single image\n",
        "model = NetDropout(nclasses, img_batch[0]).to(device=device)\n",
        "output = model(img_batch).cpu()\n",
        "print(output.shape)\n",
        "print(type(output))\n",
        "show_results(img_t, output)"
      ]
    },
    {
      "cell_type": "markdown",
      "metadata": {
        "id": "MrumaZWx7kiL"
      },
      "source": [
        "In training model, the model is stochastic."
      ]
    },
    {
      "cell_type": "code",
      "execution_count": null,
      "metadata": {
        "colab": {
          "base_uri": "https://localhost:8080/"
        },
        "id": "foZcp_iJ7niU",
        "outputId": "c6e484c3-c04a-4ab3-a7e1-930810337779"
      },
      "outputs": [],
      "source": [
        "model.train()\n",
        "set_seed(0)\n",
        "out_batch1 = model(img_batch).detach().cpu().numpy()\n",
        "out_batch2 = model(img_batch).detach().cpu().numpy()\n",
        "np.allclose(out_batch1, out_batch2)"
      ]
    },
    {
      "cell_type": "markdown",
      "metadata": {
        "id": "nw00sPpw72Tl"
      },
      "source": [
        "In testing model, the model is deterministic, since dropout is turned off.\n",
        "This is controlled by the fact that the dropout layer inherits state from the parent nn.Module."
      ]
    },
    {
      "cell_type": "code",
      "execution_count": null,
      "metadata": {
        "colab": {
          "base_uri": "https://localhost:8080/"
        },
        "id": "mJaqFXEe8ASC",
        "outputId": "24e5bb62-5858-47a3-a155-2ce6c8b1e78a"
      },
      "outputs": [],
      "source": [
        "model.eval()\n",
        "set_seed(0)\n",
        "out_batch1 = model(img_batch).detach().cpu().numpy()\n",
        "out_batch2 = model(img_batch).detach().cpu().numpy()\n",
        "np.allclose(out_batch1, out_batch2)"
      ]
    },
    {
      "cell_type": "markdown",
      "metadata": {
        "id": "uLNTRb_Cxv2o"
      },
      "source": [
        "# MNIST\n",
        "\n",
        "We've written the model definition to work with images with any number of input channels, including just 1 (i.e., gray-scale images). It can also handle any number of output classes. Let's check that it works on 10-class gray-scale MNIST.\n",
        "\n"
      ]
    },
    {
      "cell_type": "code",
      "execution_count": null,
      "metadata": {
        "colab": {
          "base_uri": "https://localhost:8080/",
          "height": 383,
          "referenced_widgets": [
            "d94dc1a1722d412486777816774d2d8d",
            "23f97b3ca11745ca86da99644f232422",
            "72b70df3a70a4eb99b8955a88d3d23d5",
            "55d3805aa7be4c7aabf3898838d8d02c",
            "97f44fecf5e14b9fbb240e0ebec6a64b",
            "9b810b90351e463ab05c79c8809a16d9",
            "0a4982b2eb73461cace57a6500dcafe7",
            "f5f235e3053642a1bb5d49d5a7f454b8",
            "f1a5938297014f72a35e375c543f2778",
            "ddfab70242d84a39ada141ad6435fe61",
            "0689fc9445db4711883a2d7318d927fb",
            "22605743ca9147ebbe9c670cbada3713",
            "453bf0a288a9499cb66b7f5d63d18f26",
            "b986f9012b7643d5b5d2240cbe4cff77",
            "18de83b1829646d0be71bf68583db6cb",
            "e30caf368bbf4da7b9feca8ca6fccdf3",
            "2476160c1873406f82a67c192c647eb5",
            "e93f832e09824741a34364253377d837",
            "699136ff86264a5db465cc458d0344c4",
            "5f46d062c441434882e8ae3e0a35eb63",
            "c75b8ab87f534424a0df9bc570e723eb",
            "e3609f57f8cd4609b85699439ae8480d",
            "5861ef24fd3c40df85d773a816371ff8",
            "b43a4e7f7c0c43ed89146ab7c3c982cd",
            "08836a8f047f46f4b8d9e9a2510dab3a",
            "fdd62f0666c146109182abd9d2cb143a",
            "b0199da3d6a24649ad4ec3d086c30e87",
            "5f78b6d2c2184c24bb6d62d486de068c",
            "6c21485c9daf4ebf98cc591691261715",
            "66b3cfce0c3b43e595ff5dd9a3773453",
            "8faa2b14fc4f46789b246c4a6cbc8681",
            "07dbf541fd2f4719bbcc9e517036634d"
          ]
        },
        "id": "c7NvlSml4AgD",
        "outputId": "7d1ead0c-0be1-4efa-f3a0-f4c3a7500ec1"
      },
      "outputs": [],
      "source": [
        "# https://github.com/pytorch/examples/blob/master/mnist/main.py\n",
        "from torchvision import datasets, transforms\n",
        "\n",
        "data_path = \"data\"\n",
        "transform = transforms.Compose([transforms.ToTensor(), transforms.Normalize((0.1307,), (0.3081,))])\n",
        "dataset1 = datasets.MNIST(data_path, train=True, download=True, transform=transform)\n",
        "dataset2 = datasets.MNIST(data_path, train=False, transform=transform)\n",
        "train_loader = torch.utils.data.DataLoader(dataset1)\n",
        "val_loader = torch.utils.data.DataLoader(dataset2)"
      ]
    },
    {
      "cell_type": "code",
      "execution_count": null,
      "metadata": {
        "colab": {
          "base_uri": "https://localhost:8080/"
        },
        "id": "aP3sE_6l2dIo",
        "outputId": "15c1bf67-0ee9-41be-fa2c-6289267ae72c"
      },
      "outputs": [],
      "source": [
        "set_seed(0)\n",
        "\n",
        "# Apply the (randomly initialized) model to a minibatch of size 1\n",
        "train_loader = torch.utils.data.DataLoader(dataset1, batch_size=1)\n",
        "dataiter = iter(train_loader)\n",
        "img_batch, label_batch = dataiter.next()\n",
        "img_batch = img_batch.to(device=device)\n",
        "print(img_batch.shape)\n",
        "\n",
        "nclasses = 10\n",
        "model = Net(nclasses, img_batch[0]).to(device=device)\n",
        "outputs = model(img_batch)\n",
        "print(outputs.shape)"
      ]
    },
    {
      "cell_type": "code",
      "execution_count": null,
      "metadata": {
        "colab": {
          "base_uri": "https://localhost:8080/"
        },
        "id": "qF5XLH4fCxRV",
        "outputId": "61ef2a8e-8c5c-4e2a-d2c0-4e511ef5b665"
      },
      "outputs": [],
      "source": [
        "image_size = img_batch[0].shape\n",
        "nchannels, nrows, ncols = image_size\n",
        "print([nchannels, nrows, ncols])"
      ]
    },
    {
      "cell_type": "code",
      "execution_count": null,
      "metadata": {
        "colab": {
          "base_uri": "https://localhost:8080/"
        },
        "id": "T8dWHuSGCGJX",
        "outputId": "346638a4-610f-459c-ccff-a50a3530ae5e"
      },
      "outputs": [],
      "source": [
        "train_loader = torch.utils.data.DataLoader(dataset1, batch_size=64, shuffle=True)\n",
        "\n",
        "model = Net(nclasses, img_batch[0], nhidden=20).to(device=device)\n",
        "optimizer = optim.SGD(model.parameters(), lr=1e-2)\n",
        "loss_fn = nn.CrossEntropyLoss()\n",
        "\n",
        "training_loop(n_epochs=20, optimizer=optimizer, model=model, loss_fn=loss_fn, train_loader=train_loader, print_every=1)"
      ]
    },
    {
      "cell_type": "code",
      "execution_count": null,
      "metadata": {
        "colab": {
          "base_uri": "https://localhost:8080/"
        },
        "id": "gQOkNR7XFQFi",
        "outputId": "a48d74ee-4c6d-4d5c-9035-248d9c729c31"
      },
      "outputs": [],
      "source": [
        "val_loader = torch.utils.data.DataLoader(dataset2, batch_size=64, shuffle=True)\n",
        "\n",
        "train_acc = accuracy(model, train_loader)\n",
        "val_acc = accuracy(model, val_loader)\n",
        "print([train_acc, val_acc])"
      ]
    },
    {
      "cell_type": "markdown",
      "metadata": {},
      "source": [
        "using einops"
      ]
    },
    {
      "cell_type": "code",
      "execution_count": null,
      "metadata": {},
      "outputs": [],
      "source": [
        "import torch\n",
        "import torch.nn as nn\n",
        "import torch.nn.functional as F\n",
        "from einops.layers.torch import Rearrange\n",
        "\n",
        "# Define the old network\n",
        "class Net(nn.Module):\n",
        "    def __init__(self):\n",
        "        super(Net, self).__init__()\n",
        "        self.conv1 = nn.Conv2d(1, 10, kernel_size=5)\n",
        "        self.conv2 = nn.Conv2d(10, 20, kernel_size=5)\n",
        "        self.conv2_drop = nn.Dropout2d()\n",
        "        self.fc1 = nn.Linear(320, 50)\n",
        "        self.fc2 = nn.Linear(50, 10)\n",
        "\n",
        "    def forward(self, x):\n",
        "        x = F.relu(F.max_pool2d(self.conv1(x), 2))\n",
        "        x = F.relu(F.max_pool2d(self.conv2_drop(self.conv2(x)), 2))\n",
        "        x = x.view(-1, 320)\n",
        "        x = F.relu(self.fc1(x))\n",
        "        x = F.dropout(x, training=self.training)\n",
        "        x = self.fc2(x)\n",
        "        return F.log_softmax(x, dim=1)\n",
        "\n",
        "# Define the new network\n",
        "conv_net_new = nn.Sequential(\n",
        "    nn.Conv2d(1, 10, kernel_size=5),\n",
        "    nn.MaxPool2d(kernel_size=2),\n",
        "    nn.ReLU(),\n",
        "    nn.Conv2d(10, 20, kernel_size=5),\n",
        "    nn.MaxPool2d(kernel_size=2),\n",
        "    nn.ReLU(),\n",
        "    nn.Dropout2d(),\n",
        "    Rearrange('b c h w -> b (c h w)'),\n",
        "    nn.Linear(320, 50),\n",
        "    nn.ReLU(),\n",
        "    nn.Dropout(),\n",
        "    nn.Linear(50, 10),\n",
        "    nn.LogSoftmax(dim=1)\n",
        ")\n",
        "\n",
        "# Create a random tensor to represent a batch of images\n",
        "x = torch.randn(1, 1, 28, 28)\n",
        "\n",
        "# Pass the tensor through the old network\n",
        "conv_net_old = Net()\n",
        "y_old = conv_net_old(x)\n",
        "print(\"Output from the old network:\", y_old)\n",
        "print(\"Output shape from the old network:\", y_old.shape)\n",
        "\n",
        "# Pass the tensor through the new network\n",
        "y_new = conv_net_new(x)\n",
        "print(\"Output from the new network:\", y_new)\n",
        "print(\"Output shape from the new network:\", y_new.shape)"
      ]
    }
  ],
  "metadata": {
    "accelerator": "GPU",
    "colab": {
      "name": "cnn_cifar_pytorch.ipynb",
      "provenance": [],
      "toc_visible": true
    },
    "kernelspec": {
      "display_name": "Python 3",
      "name": "python3"
    },
    "language_info": {
      "codemirror_mode": {
        "name": "ipython",
        "version": 3
      },
      "file_extension": ".py",
      "mimetype": "text/x-python",
      "name": "python",
      "nbconvert_exporter": "python",
      "pygments_lexer": "ipython3",
      "version": "3.11.9"
    },
    "widgets": {
      "application/vnd.jupyter.widget-state+json": {
        "0689fc9445db4711883a2d7318d927fb": {
          "model_module": "@jupyter-widgets/controls",
          "model_module_version": "1.5.0",
          "model_name": "FloatProgressModel",
          "state": {
            "_dom_classes": [],
            "_model_module": "@jupyter-widgets/controls",
            "_model_module_version": "1.5.0",
            "_model_name": "FloatProgressModel",
            "_view_count": null,
            "_view_module": "@jupyter-widgets/controls",
            "_view_module_version": "1.5.0",
            "_view_name": "ProgressView",
            "bar_style": "success",
            "description": "",
            "description_tooltip": null,
            "layout": "IPY_MODEL_b986f9012b7643d5b5d2240cbe4cff77",
            "max": 28881,
            "min": 0,
            "orientation": "horizontal",
            "style": "IPY_MODEL_453bf0a288a9499cb66b7f5d63d18f26",
            "value": 28881
          }
        },
        "07dbf541fd2f4719bbcc9e517036634d": {
          "model_module": "@jupyter-widgets/base",
          "model_module_version": "1.2.0",
          "model_name": "LayoutModel",
          "state": {
            "_model_module": "@jupyter-widgets/base",
            "_model_module_version": "1.2.0",
            "_model_name": "LayoutModel",
            "_view_count": null,
            "_view_module": "@jupyter-widgets/base",
            "_view_module_version": "1.2.0",
            "_view_name": "LayoutView",
            "align_content": null,
            "align_items": null,
            "align_self": null,
            "border": null,
            "bottom": null,
            "display": null,
            "flex": null,
            "flex_flow": null,
            "grid_area": null,
            "grid_auto_columns": null,
            "grid_auto_flow": null,
            "grid_auto_rows": null,
            "grid_column": null,
            "grid_gap": null,
            "grid_row": null,
            "grid_template_areas": null,
            "grid_template_columns": null,
            "grid_template_rows": null,
            "height": null,
            "justify_content": null,
            "justify_items": null,
            "left": null,
            "margin": null,
            "max_height": null,
            "max_width": null,
            "min_height": null,
            "min_width": null,
            "object_fit": null,
            "object_position": null,
            "order": null,
            "overflow": null,
            "overflow_x": null,
            "overflow_y": null,
            "padding": null,
            "right": null,
            "top": null,
            "visibility": null,
            "width": null
          }
        },
        "08836a8f047f46f4b8d9e9a2510dab3a": {
          "model_module": "@jupyter-widgets/controls",
          "model_module_version": "1.5.0",
          "model_name": "HBoxModel",
          "state": {
            "_dom_classes": [],
            "_model_module": "@jupyter-widgets/controls",
            "_model_module_version": "1.5.0",
            "_model_name": "HBoxModel",
            "_view_count": null,
            "_view_module": "@jupyter-widgets/controls",
            "_view_module_version": "1.5.0",
            "_view_name": "HBoxView",
            "box_style": "",
            "children": [
              "IPY_MODEL_b0199da3d6a24649ad4ec3d086c30e87",
              "IPY_MODEL_5f78b6d2c2184c24bb6d62d486de068c"
            ],
            "layout": "IPY_MODEL_fdd62f0666c146109182abd9d2cb143a"
          }
        },
        "094ba7067c6f4fedb1a79fe59ee81cca": {
          "model_module": "@jupyter-widgets/controls",
          "model_module_version": "1.5.0",
          "model_name": "HTMLModel",
          "state": {
            "_dom_classes": [],
            "_model_module": "@jupyter-widgets/controls",
            "_model_module_version": "1.5.0",
            "_model_name": "HTMLModel",
            "_view_count": null,
            "_view_module": "@jupyter-widgets/controls",
            "_view_module_version": "1.5.0",
            "_view_name": "HTMLView",
            "description": "",
            "description_tooltip": null,
            "layout": "IPY_MODEL_717fa68813bc459584b0ed360f94d2a5",
            "placeholder": "​",
            "style": "IPY_MODEL_1f88cab621f541bf825acda9acf1df42",
            "value": " 170499072/? [00:04&lt;00:00, 39952151.81it/s]"
          }
        },
        "0a4982b2eb73461cace57a6500dcafe7": {
          "model_module": "@jupyter-widgets/controls",
          "model_module_version": "1.5.0",
          "model_name": "DescriptionStyleModel",
          "state": {
            "_model_module": "@jupyter-widgets/controls",
            "_model_module_version": "1.5.0",
            "_model_name": "DescriptionStyleModel",
            "_view_count": null,
            "_view_module": "@jupyter-widgets/base",
            "_view_module_version": "1.2.0",
            "_view_name": "StyleView",
            "description_width": ""
          }
        },
        "18de83b1829646d0be71bf68583db6cb": {
          "model_module": "@jupyter-widgets/controls",
          "model_module_version": "1.5.0",
          "model_name": "DescriptionStyleModel",
          "state": {
            "_model_module": "@jupyter-widgets/controls",
            "_model_module_version": "1.5.0",
            "_model_name": "DescriptionStyleModel",
            "_view_count": null,
            "_view_module": "@jupyter-widgets/base",
            "_view_module_version": "1.2.0",
            "_view_name": "StyleView",
            "description_width": ""
          }
        },
        "1f88cab621f541bf825acda9acf1df42": {
          "model_module": "@jupyter-widgets/controls",
          "model_module_version": "1.5.0",
          "model_name": "DescriptionStyleModel",
          "state": {
            "_model_module": "@jupyter-widgets/controls",
            "_model_module_version": "1.5.0",
            "_model_name": "DescriptionStyleModel",
            "_view_count": null,
            "_view_module": "@jupyter-widgets/base",
            "_view_module_version": "1.2.0",
            "_view_name": "StyleView",
            "description_width": ""
          }
        },
        "22605743ca9147ebbe9c670cbada3713": {
          "model_module": "@jupyter-widgets/controls",
          "model_module_version": "1.5.0",
          "model_name": "HTMLModel",
          "state": {
            "_dom_classes": [],
            "_model_module": "@jupyter-widgets/controls",
            "_model_module_version": "1.5.0",
            "_model_name": "HTMLModel",
            "_view_count": null,
            "_view_module": "@jupyter-widgets/controls",
            "_view_module_version": "1.5.0",
            "_view_name": "HTMLView",
            "description": "",
            "description_tooltip": null,
            "layout": "IPY_MODEL_e30caf368bbf4da7b9feca8ca6fccdf3",
            "placeholder": "​",
            "style": "IPY_MODEL_18de83b1829646d0be71bf68583db6cb",
            "value": " 29696/? [00:00&lt;00:00, 106316.52it/s]"
          }
        },
        "23f97b3ca11745ca86da99644f232422": {
          "model_module": "@jupyter-widgets/base",
          "model_module_version": "1.2.0",
          "model_name": "LayoutModel",
          "state": {
            "_model_module": "@jupyter-widgets/base",
            "_model_module_version": "1.2.0",
            "_model_name": "LayoutModel",
            "_view_count": null,
            "_view_module": "@jupyter-widgets/base",
            "_view_module_version": "1.2.0",
            "_view_name": "LayoutView",
            "align_content": null,
            "align_items": null,
            "align_self": null,
            "border": null,
            "bottom": null,
            "display": null,
            "flex": null,
            "flex_flow": null,
            "grid_area": null,
            "grid_auto_columns": null,
            "grid_auto_flow": null,
            "grid_auto_rows": null,
            "grid_column": null,
            "grid_gap": null,
            "grid_row": null,
            "grid_template_areas": null,
            "grid_template_columns": null,
            "grid_template_rows": null,
            "height": null,
            "justify_content": null,
            "justify_items": null,
            "left": null,
            "margin": null,
            "max_height": null,
            "max_width": null,
            "min_height": null,
            "min_width": null,
            "object_fit": null,
            "object_position": null,
            "order": null,
            "overflow": null,
            "overflow_x": null,
            "overflow_y": null,
            "padding": null,
            "right": null,
            "top": null,
            "visibility": null,
            "width": null
          }
        },
        "2476160c1873406f82a67c192c647eb5": {
          "model_module": "@jupyter-widgets/controls",
          "model_module_version": "1.5.0",
          "model_name": "HBoxModel",
          "state": {
            "_dom_classes": [],
            "_model_module": "@jupyter-widgets/controls",
            "_model_module_version": "1.5.0",
            "_model_name": "HBoxModel",
            "_view_count": null,
            "_view_module": "@jupyter-widgets/controls",
            "_view_module_version": "1.5.0",
            "_view_name": "HBoxView",
            "box_style": "",
            "children": [
              "IPY_MODEL_699136ff86264a5db465cc458d0344c4",
              "IPY_MODEL_5f46d062c441434882e8ae3e0a35eb63"
            ],
            "layout": "IPY_MODEL_e93f832e09824741a34364253377d837"
          }
        },
        "3a0040c40cd34465ac9f790332b71542": {
          "model_module": "@jupyter-widgets/controls",
          "model_module_version": "1.5.0",
          "model_name": "ProgressStyleModel",
          "state": {
            "_model_module": "@jupyter-widgets/controls",
            "_model_module_version": "1.5.0",
            "_model_name": "ProgressStyleModel",
            "_view_count": null,
            "_view_module": "@jupyter-widgets/base",
            "_view_module_version": "1.2.0",
            "_view_name": "StyleView",
            "bar_color": null,
            "description_width": "initial"
          }
        },
        "453bf0a288a9499cb66b7f5d63d18f26": {
          "model_module": "@jupyter-widgets/controls",
          "model_module_version": "1.5.0",
          "model_name": "ProgressStyleModel",
          "state": {
            "_model_module": "@jupyter-widgets/controls",
            "_model_module_version": "1.5.0",
            "_model_name": "ProgressStyleModel",
            "_view_count": null,
            "_view_module": "@jupyter-widgets/base",
            "_view_module_version": "1.2.0",
            "_view_name": "StyleView",
            "bar_color": null,
            "description_width": "initial"
          }
        },
        "55d3805aa7be4c7aabf3898838d8d02c": {
          "model_module": "@jupyter-widgets/controls",
          "model_module_version": "1.5.0",
          "model_name": "HTMLModel",
          "state": {
            "_dom_classes": [],
            "_model_module": "@jupyter-widgets/controls",
            "_model_module_version": "1.5.0",
            "_model_name": "HTMLModel",
            "_view_count": null,
            "_view_module": "@jupyter-widgets/controls",
            "_view_module_version": "1.5.0",
            "_view_name": "HTMLView",
            "description": "",
            "description_tooltip": null,
            "layout": "IPY_MODEL_f5f235e3053642a1bb5d49d5a7f454b8",
            "placeholder": "​",
            "style": "IPY_MODEL_0a4982b2eb73461cace57a6500dcafe7",
            "value": " 9913344/? [00:40&lt;00:00, 247742.83it/s]"
          }
        },
        "5861ef24fd3c40df85d773a816371ff8": {
          "model_module": "@jupyter-widgets/controls",
          "model_module_version": "1.5.0",
          "model_name": "DescriptionStyleModel",
          "state": {
            "_model_module": "@jupyter-widgets/controls",
            "_model_module_version": "1.5.0",
            "_model_name": "DescriptionStyleModel",
            "_view_count": null,
            "_view_module": "@jupyter-widgets/base",
            "_view_module_version": "1.2.0",
            "_view_name": "StyleView",
            "description_width": ""
          }
        },
        "5f46d062c441434882e8ae3e0a35eb63": {
          "model_module": "@jupyter-widgets/controls",
          "model_module_version": "1.5.0",
          "model_name": "HTMLModel",
          "state": {
            "_dom_classes": [],
            "_model_module": "@jupyter-widgets/controls",
            "_model_module_version": "1.5.0",
            "_model_name": "HTMLModel",
            "_view_count": null,
            "_view_module": "@jupyter-widgets/controls",
            "_view_module_version": "1.5.0",
            "_view_name": "HTMLView",
            "description": "",
            "description_tooltip": null,
            "layout": "IPY_MODEL_b43a4e7f7c0c43ed89146ab7c3c982cd",
            "placeholder": "​",
            "style": "IPY_MODEL_5861ef24fd3c40df85d773a816371ff8",
            "value": " 1649664/? [01:28&lt;00:00, 18673.79it/s]"
          }
        },
        "5f78b6d2c2184c24bb6d62d486de068c": {
          "model_module": "@jupyter-widgets/controls",
          "model_module_version": "1.5.0",
          "model_name": "HTMLModel",
          "state": {
            "_dom_classes": [],
            "_model_module": "@jupyter-widgets/controls",
            "_model_module_version": "1.5.0",
            "_model_name": "HTMLModel",
            "_view_count": null,
            "_view_module": "@jupyter-widgets/controls",
            "_view_module_version": "1.5.0",
            "_view_name": "HTMLView",
            "description": "",
            "description_tooltip": null,
            "layout": "IPY_MODEL_07dbf541fd2f4719bbcc9e517036634d",
            "placeholder": "​",
            "style": "IPY_MODEL_8faa2b14fc4f46789b246c4a6cbc8681",
            "value": " 5120/? [01:17&lt;00:00, 65.91it/s]"
          }
        },
        "64d2f5290589473bb799f9745a591c25": {
          "model_module": "@jupyter-widgets/base",
          "model_module_version": "1.2.0",
          "model_name": "LayoutModel",
          "state": {
            "_model_module": "@jupyter-widgets/base",
            "_model_module_version": "1.2.0",
            "_model_name": "LayoutModel",
            "_view_count": null,
            "_view_module": "@jupyter-widgets/base",
            "_view_module_version": "1.2.0",
            "_view_name": "LayoutView",
            "align_content": null,
            "align_items": null,
            "align_self": null,
            "border": null,
            "bottom": null,
            "display": null,
            "flex": null,
            "flex_flow": null,
            "grid_area": null,
            "grid_auto_columns": null,
            "grid_auto_flow": null,
            "grid_auto_rows": null,
            "grid_column": null,
            "grid_gap": null,
            "grid_row": null,
            "grid_template_areas": null,
            "grid_template_columns": null,
            "grid_template_rows": null,
            "height": null,
            "justify_content": null,
            "justify_items": null,
            "left": null,
            "margin": null,
            "max_height": null,
            "max_width": null,
            "min_height": null,
            "min_width": null,
            "object_fit": null,
            "object_position": null,
            "order": null,
            "overflow": null,
            "overflow_x": null,
            "overflow_y": null,
            "padding": null,
            "right": null,
            "top": null,
            "visibility": null,
            "width": null
          }
        },
        "66b3cfce0c3b43e595ff5dd9a3773453": {
          "model_module": "@jupyter-widgets/base",
          "model_module_version": "1.2.0",
          "model_name": "LayoutModel",
          "state": {
            "_model_module": "@jupyter-widgets/base",
            "_model_module_version": "1.2.0",
            "_model_name": "LayoutModel",
            "_view_count": null,
            "_view_module": "@jupyter-widgets/base",
            "_view_module_version": "1.2.0",
            "_view_name": "LayoutView",
            "align_content": null,
            "align_items": null,
            "align_self": null,
            "border": null,
            "bottom": null,
            "display": null,
            "flex": null,
            "flex_flow": null,
            "grid_area": null,
            "grid_auto_columns": null,
            "grid_auto_flow": null,
            "grid_auto_rows": null,
            "grid_column": null,
            "grid_gap": null,
            "grid_row": null,
            "grid_template_areas": null,
            "grid_template_columns": null,
            "grid_template_rows": null,
            "height": null,
            "justify_content": null,
            "justify_items": null,
            "left": null,
            "margin": null,
            "max_height": null,
            "max_width": null,
            "min_height": null,
            "min_width": null,
            "object_fit": null,
            "object_position": null,
            "order": null,
            "overflow": null,
            "overflow_x": null,
            "overflow_y": null,
            "padding": null,
            "right": null,
            "top": null,
            "visibility": null,
            "width": null
          }
        },
        "699136ff86264a5db465cc458d0344c4": {
          "model_module": "@jupyter-widgets/controls",
          "model_module_version": "1.5.0",
          "model_name": "FloatProgressModel",
          "state": {
            "_dom_classes": [],
            "_model_module": "@jupyter-widgets/controls",
            "_model_module_version": "1.5.0",
            "_model_name": "FloatProgressModel",
            "_view_count": null,
            "_view_module": "@jupyter-widgets/controls",
            "_view_module_version": "1.5.0",
            "_view_name": "ProgressView",
            "bar_style": "success",
            "description": "",
            "description_tooltip": null,
            "layout": "IPY_MODEL_e3609f57f8cd4609b85699439ae8480d",
            "max": 1648877,
            "min": 0,
            "orientation": "horizontal",
            "style": "IPY_MODEL_c75b8ab87f534424a0df9bc570e723eb",
            "value": 1648877
          }
        },
        "6c21485c9daf4ebf98cc591691261715": {
          "model_module": "@jupyter-widgets/controls",
          "model_module_version": "1.5.0",
          "model_name": "ProgressStyleModel",
          "state": {
            "_model_module": "@jupyter-widgets/controls",
            "_model_module_version": "1.5.0",
            "_model_name": "ProgressStyleModel",
            "_view_count": null,
            "_view_module": "@jupyter-widgets/base",
            "_view_module_version": "1.2.0",
            "_view_name": "StyleView",
            "bar_color": null,
            "description_width": "initial"
          }
        },
        "717fa68813bc459584b0ed360f94d2a5": {
          "model_module": "@jupyter-widgets/base",
          "model_module_version": "1.2.0",
          "model_name": "LayoutModel",
          "state": {
            "_model_module": "@jupyter-widgets/base",
            "_model_module_version": "1.2.0",
            "_model_name": "LayoutModel",
            "_view_count": null,
            "_view_module": "@jupyter-widgets/base",
            "_view_module_version": "1.2.0",
            "_view_name": "LayoutView",
            "align_content": null,
            "align_items": null,
            "align_self": null,
            "border": null,
            "bottom": null,
            "display": null,
            "flex": null,
            "flex_flow": null,
            "grid_area": null,
            "grid_auto_columns": null,
            "grid_auto_flow": null,
            "grid_auto_rows": null,
            "grid_column": null,
            "grid_gap": null,
            "grid_row": null,
            "grid_template_areas": null,
            "grid_template_columns": null,
            "grid_template_rows": null,
            "height": null,
            "justify_content": null,
            "justify_items": null,
            "left": null,
            "margin": null,
            "max_height": null,
            "max_width": null,
            "min_height": null,
            "min_width": null,
            "object_fit": null,
            "object_position": null,
            "order": null,
            "overflow": null,
            "overflow_x": null,
            "overflow_y": null,
            "padding": null,
            "right": null,
            "top": null,
            "visibility": null,
            "width": null
          }
        },
        "72b70df3a70a4eb99b8955a88d3d23d5": {
          "model_module": "@jupyter-widgets/controls",
          "model_module_version": "1.5.0",
          "model_name": "FloatProgressModel",
          "state": {
            "_dom_classes": [],
            "_model_module": "@jupyter-widgets/controls",
            "_model_module_version": "1.5.0",
            "_model_name": "FloatProgressModel",
            "_view_count": null,
            "_view_module": "@jupyter-widgets/controls",
            "_view_module_version": "1.5.0",
            "_view_name": "ProgressView",
            "bar_style": "success",
            "description": "",
            "description_tooltip": null,
            "layout": "IPY_MODEL_9b810b90351e463ab05c79c8809a16d9",
            "max": 9912422,
            "min": 0,
            "orientation": "horizontal",
            "style": "IPY_MODEL_97f44fecf5e14b9fbb240e0ebec6a64b",
            "value": 9912422
          }
        },
        "809c869b098b42fc898afacb83c53e91": {
          "model_module": "@jupyter-widgets/base",
          "model_module_version": "1.2.0",
          "model_name": "LayoutModel",
          "state": {
            "_model_module": "@jupyter-widgets/base",
            "_model_module_version": "1.2.0",
            "_model_name": "LayoutModel",
            "_view_count": null,
            "_view_module": "@jupyter-widgets/base",
            "_view_module_version": "1.2.0",
            "_view_name": "LayoutView",
            "align_content": null,
            "align_items": null,
            "align_self": null,
            "border": null,
            "bottom": null,
            "display": null,
            "flex": null,
            "flex_flow": null,
            "grid_area": null,
            "grid_auto_columns": null,
            "grid_auto_flow": null,
            "grid_auto_rows": null,
            "grid_column": null,
            "grid_gap": null,
            "grid_row": null,
            "grid_template_areas": null,
            "grid_template_columns": null,
            "grid_template_rows": null,
            "height": null,
            "justify_content": null,
            "justify_items": null,
            "left": null,
            "margin": null,
            "max_height": null,
            "max_width": null,
            "min_height": null,
            "min_width": null,
            "object_fit": null,
            "object_position": null,
            "order": null,
            "overflow": null,
            "overflow_x": null,
            "overflow_y": null,
            "padding": null,
            "right": null,
            "top": null,
            "visibility": null,
            "width": null
          }
        },
        "8faa2b14fc4f46789b246c4a6cbc8681": {
          "model_module": "@jupyter-widgets/controls",
          "model_module_version": "1.5.0",
          "model_name": "DescriptionStyleModel",
          "state": {
            "_model_module": "@jupyter-widgets/controls",
            "_model_module_version": "1.5.0",
            "_model_name": "DescriptionStyleModel",
            "_view_count": null,
            "_view_module": "@jupyter-widgets/base",
            "_view_module_version": "1.2.0",
            "_view_name": "StyleView",
            "description_width": ""
          }
        },
        "8ffa87f9b83f4decabddedc7b11b42d1": {
          "model_module": "@jupyter-widgets/controls",
          "model_module_version": "1.5.0",
          "model_name": "HBoxModel",
          "state": {
            "_dom_classes": [],
            "_model_module": "@jupyter-widgets/controls",
            "_model_module_version": "1.5.0",
            "_model_name": "HBoxModel",
            "_view_count": null,
            "_view_module": "@jupyter-widgets/controls",
            "_view_module_version": "1.5.0",
            "_view_name": "HBoxView",
            "box_style": "",
            "children": [
              "IPY_MODEL_f8c0fc1c00c442b2b6d89bb34141afb3",
              "IPY_MODEL_094ba7067c6f4fedb1a79fe59ee81cca"
            ],
            "layout": "IPY_MODEL_64d2f5290589473bb799f9745a591c25"
          }
        },
        "97f44fecf5e14b9fbb240e0ebec6a64b": {
          "model_module": "@jupyter-widgets/controls",
          "model_module_version": "1.5.0",
          "model_name": "ProgressStyleModel",
          "state": {
            "_model_module": "@jupyter-widgets/controls",
            "_model_module_version": "1.5.0",
            "_model_name": "ProgressStyleModel",
            "_view_count": null,
            "_view_module": "@jupyter-widgets/base",
            "_view_module_version": "1.2.0",
            "_view_name": "StyleView",
            "bar_color": null,
            "description_width": "initial"
          }
        },
        "9b810b90351e463ab05c79c8809a16d9": {
          "model_module": "@jupyter-widgets/base",
          "model_module_version": "1.2.0",
          "model_name": "LayoutModel",
          "state": {
            "_model_module": "@jupyter-widgets/base",
            "_model_module_version": "1.2.0",
            "_model_name": "LayoutModel",
            "_view_count": null,
            "_view_module": "@jupyter-widgets/base",
            "_view_module_version": "1.2.0",
            "_view_name": "LayoutView",
            "align_content": null,
            "align_items": null,
            "align_self": null,
            "border": null,
            "bottom": null,
            "display": null,
            "flex": null,
            "flex_flow": null,
            "grid_area": null,
            "grid_auto_columns": null,
            "grid_auto_flow": null,
            "grid_auto_rows": null,
            "grid_column": null,
            "grid_gap": null,
            "grid_row": null,
            "grid_template_areas": null,
            "grid_template_columns": null,
            "grid_template_rows": null,
            "height": null,
            "justify_content": null,
            "justify_items": null,
            "left": null,
            "margin": null,
            "max_height": null,
            "max_width": null,
            "min_height": null,
            "min_width": null,
            "object_fit": null,
            "object_position": null,
            "order": null,
            "overflow": null,
            "overflow_x": null,
            "overflow_y": null,
            "padding": null,
            "right": null,
            "top": null,
            "visibility": null,
            "width": null
          }
        },
        "b0199da3d6a24649ad4ec3d086c30e87": {
          "model_module": "@jupyter-widgets/controls",
          "model_module_version": "1.5.0",
          "model_name": "FloatProgressModel",
          "state": {
            "_dom_classes": [],
            "_model_module": "@jupyter-widgets/controls",
            "_model_module_version": "1.5.0",
            "_model_name": "FloatProgressModel",
            "_view_count": null,
            "_view_module": "@jupyter-widgets/controls",
            "_view_module_version": "1.5.0",
            "_view_name": "ProgressView",
            "bar_style": "success",
            "description": "",
            "description_tooltip": null,
            "layout": "IPY_MODEL_66b3cfce0c3b43e595ff5dd9a3773453",
            "max": 4542,
            "min": 0,
            "orientation": "horizontal",
            "style": "IPY_MODEL_6c21485c9daf4ebf98cc591691261715",
            "value": 4542
          }
        },
        "b43a4e7f7c0c43ed89146ab7c3c982cd": {
          "model_module": "@jupyter-widgets/base",
          "model_module_version": "1.2.0",
          "model_name": "LayoutModel",
          "state": {
            "_model_module": "@jupyter-widgets/base",
            "_model_module_version": "1.2.0",
            "_model_name": "LayoutModel",
            "_view_count": null,
            "_view_module": "@jupyter-widgets/base",
            "_view_module_version": "1.2.0",
            "_view_name": "LayoutView",
            "align_content": null,
            "align_items": null,
            "align_self": null,
            "border": null,
            "bottom": null,
            "display": null,
            "flex": null,
            "flex_flow": null,
            "grid_area": null,
            "grid_auto_columns": null,
            "grid_auto_flow": null,
            "grid_auto_rows": null,
            "grid_column": null,
            "grid_gap": null,
            "grid_row": null,
            "grid_template_areas": null,
            "grid_template_columns": null,
            "grid_template_rows": null,
            "height": null,
            "justify_content": null,
            "justify_items": null,
            "left": null,
            "margin": null,
            "max_height": null,
            "max_width": null,
            "min_height": null,
            "min_width": null,
            "object_fit": null,
            "object_position": null,
            "order": null,
            "overflow": null,
            "overflow_x": null,
            "overflow_y": null,
            "padding": null,
            "right": null,
            "top": null,
            "visibility": null,
            "width": null
          }
        },
        "b986f9012b7643d5b5d2240cbe4cff77": {
          "model_module": "@jupyter-widgets/base",
          "model_module_version": "1.2.0",
          "model_name": "LayoutModel",
          "state": {
            "_model_module": "@jupyter-widgets/base",
            "_model_module_version": "1.2.0",
            "_model_name": "LayoutModel",
            "_view_count": null,
            "_view_module": "@jupyter-widgets/base",
            "_view_module_version": "1.2.0",
            "_view_name": "LayoutView",
            "align_content": null,
            "align_items": null,
            "align_self": null,
            "border": null,
            "bottom": null,
            "display": null,
            "flex": null,
            "flex_flow": null,
            "grid_area": null,
            "grid_auto_columns": null,
            "grid_auto_flow": null,
            "grid_auto_rows": null,
            "grid_column": null,
            "grid_gap": null,
            "grid_row": null,
            "grid_template_areas": null,
            "grid_template_columns": null,
            "grid_template_rows": null,
            "height": null,
            "justify_content": null,
            "justify_items": null,
            "left": null,
            "margin": null,
            "max_height": null,
            "max_width": null,
            "min_height": null,
            "min_width": null,
            "object_fit": null,
            "object_position": null,
            "order": null,
            "overflow": null,
            "overflow_x": null,
            "overflow_y": null,
            "padding": null,
            "right": null,
            "top": null,
            "visibility": null,
            "width": null
          }
        },
        "c75b8ab87f534424a0df9bc570e723eb": {
          "model_module": "@jupyter-widgets/controls",
          "model_module_version": "1.5.0",
          "model_name": "ProgressStyleModel",
          "state": {
            "_model_module": "@jupyter-widgets/controls",
            "_model_module_version": "1.5.0",
            "_model_name": "ProgressStyleModel",
            "_view_count": null,
            "_view_module": "@jupyter-widgets/base",
            "_view_module_version": "1.2.0",
            "_view_name": "StyleView",
            "bar_color": null,
            "description_width": "initial"
          }
        },
        "d94dc1a1722d412486777816774d2d8d": {
          "model_module": "@jupyter-widgets/controls",
          "model_module_version": "1.5.0",
          "model_name": "HBoxModel",
          "state": {
            "_dom_classes": [],
            "_model_module": "@jupyter-widgets/controls",
            "_model_module_version": "1.5.0",
            "_model_name": "HBoxModel",
            "_view_count": null,
            "_view_module": "@jupyter-widgets/controls",
            "_view_module_version": "1.5.0",
            "_view_name": "HBoxView",
            "box_style": "",
            "children": [
              "IPY_MODEL_72b70df3a70a4eb99b8955a88d3d23d5",
              "IPY_MODEL_55d3805aa7be4c7aabf3898838d8d02c"
            ],
            "layout": "IPY_MODEL_23f97b3ca11745ca86da99644f232422"
          }
        },
        "ddfab70242d84a39ada141ad6435fe61": {
          "model_module": "@jupyter-widgets/base",
          "model_module_version": "1.2.0",
          "model_name": "LayoutModel",
          "state": {
            "_model_module": "@jupyter-widgets/base",
            "_model_module_version": "1.2.0",
            "_model_name": "LayoutModel",
            "_view_count": null,
            "_view_module": "@jupyter-widgets/base",
            "_view_module_version": "1.2.0",
            "_view_name": "LayoutView",
            "align_content": null,
            "align_items": null,
            "align_self": null,
            "border": null,
            "bottom": null,
            "display": null,
            "flex": null,
            "flex_flow": null,
            "grid_area": null,
            "grid_auto_columns": null,
            "grid_auto_flow": null,
            "grid_auto_rows": null,
            "grid_column": null,
            "grid_gap": null,
            "grid_row": null,
            "grid_template_areas": null,
            "grid_template_columns": null,
            "grid_template_rows": null,
            "height": null,
            "justify_content": null,
            "justify_items": null,
            "left": null,
            "margin": null,
            "max_height": null,
            "max_width": null,
            "min_height": null,
            "min_width": null,
            "object_fit": null,
            "object_position": null,
            "order": null,
            "overflow": null,
            "overflow_x": null,
            "overflow_y": null,
            "padding": null,
            "right": null,
            "top": null,
            "visibility": null,
            "width": null
          }
        },
        "e30caf368bbf4da7b9feca8ca6fccdf3": {
          "model_module": "@jupyter-widgets/base",
          "model_module_version": "1.2.0",
          "model_name": "LayoutModel",
          "state": {
            "_model_module": "@jupyter-widgets/base",
            "_model_module_version": "1.2.0",
            "_model_name": "LayoutModel",
            "_view_count": null,
            "_view_module": "@jupyter-widgets/base",
            "_view_module_version": "1.2.0",
            "_view_name": "LayoutView",
            "align_content": null,
            "align_items": null,
            "align_self": null,
            "border": null,
            "bottom": null,
            "display": null,
            "flex": null,
            "flex_flow": null,
            "grid_area": null,
            "grid_auto_columns": null,
            "grid_auto_flow": null,
            "grid_auto_rows": null,
            "grid_column": null,
            "grid_gap": null,
            "grid_row": null,
            "grid_template_areas": null,
            "grid_template_columns": null,
            "grid_template_rows": null,
            "height": null,
            "justify_content": null,
            "justify_items": null,
            "left": null,
            "margin": null,
            "max_height": null,
            "max_width": null,
            "min_height": null,
            "min_width": null,
            "object_fit": null,
            "object_position": null,
            "order": null,
            "overflow": null,
            "overflow_x": null,
            "overflow_y": null,
            "padding": null,
            "right": null,
            "top": null,
            "visibility": null,
            "width": null
          }
        },
        "e3609f57f8cd4609b85699439ae8480d": {
          "model_module": "@jupyter-widgets/base",
          "model_module_version": "1.2.0",
          "model_name": "LayoutModel",
          "state": {
            "_model_module": "@jupyter-widgets/base",
            "_model_module_version": "1.2.0",
            "_model_name": "LayoutModel",
            "_view_count": null,
            "_view_module": "@jupyter-widgets/base",
            "_view_module_version": "1.2.0",
            "_view_name": "LayoutView",
            "align_content": null,
            "align_items": null,
            "align_self": null,
            "border": null,
            "bottom": null,
            "display": null,
            "flex": null,
            "flex_flow": null,
            "grid_area": null,
            "grid_auto_columns": null,
            "grid_auto_flow": null,
            "grid_auto_rows": null,
            "grid_column": null,
            "grid_gap": null,
            "grid_row": null,
            "grid_template_areas": null,
            "grid_template_columns": null,
            "grid_template_rows": null,
            "height": null,
            "justify_content": null,
            "justify_items": null,
            "left": null,
            "margin": null,
            "max_height": null,
            "max_width": null,
            "min_height": null,
            "min_width": null,
            "object_fit": null,
            "object_position": null,
            "order": null,
            "overflow": null,
            "overflow_x": null,
            "overflow_y": null,
            "padding": null,
            "right": null,
            "top": null,
            "visibility": null,
            "width": null
          }
        },
        "e93f832e09824741a34364253377d837": {
          "model_module": "@jupyter-widgets/base",
          "model_module_version": "1.2.0",
          "model_name": "LayoutModel",
          "state": {
            "_model_module": "@jupyter-widgets/base",
            "_model_module_version": "1.2.0",
            "_model_name": "LayoutModel",
            "_view_count": null,
            "_view_module": "@jupyter-widgets/base",
            "_view_module_version": "1.2.0",
            "_view_name": "LayoutView",
            "align_content": null,
            "align_items": null,
            "align_self": null,
            "border": null,
            "bottom": null,
            "display": null,
            "flex": null,
            "flex_flow": null,
            "grid_area": null,
            "grid_auto_columns": null,
            "grid_auto_flow": null,
            "grid_auto_rows": null,
            "grid_column": null,
            "grid_gap": null,
            "grid_row": null,
            "grid_template_areas": null,
            "grid_template_columns": null,
            "grid_template_rows": null,
            "height": null,
            "justify_content": null,
            "justify_items": null,
            "left": null,
            "margin": null,
            "max_height": null,
            "max_width": null,
            "min_height": null,
            "min_width": null,
            "object_fit": null,
            "object_position": null,
            "order": null,
            "overflow": null,
            "overflow_x": null,
            "overflow_y": null,
            "padding": null,
            "right": null,
            "top": null,
            "visibility": null,
            "width": null
          }
        },
        "f1a5938297014f72a35e375c543f2778": {
          "model_module": "@jupyter-widgets/controls",
          "model_module_version": "1.5.0",
          "model_name": "HBoxModel",
          "state": {
            "_dom_classes": [],
            "_model_module": "@jupyter-widgets/controls",
            "_model_module_version": "1.5.0",
            "_model_name": "HBoxModel",
            "_view_count": null,
            "_view_module": "@jupyter-widgets/controls",
            "_view_module_version": "1.5.0",
            "_view_name": "HBoxView",
            "box_style": "",
            "children": [
              "IPY_MODEL_0689fc9445db4711883a2d7318d927fb",
              "IPY_MODEL_22605743ca9147ebbe9c670cbada3713"
            ],
            "layout": "IPY_MODEL_ddfab70242d84a39ada141ad6435fe61"
          }
        },
        "f5f235e3053642a1bb5d49d5a7f454b8": {
          "model_module": "@jupyter-widgets/base",
          "model_module_version": "1.2.0",
          "model_name": "LayoutModel",
          "state": {
            "_model_module": "@jupyter-widgets/base",
            "_model_module_version": "1.2.0",
            "_model_name": "LayoutModel",
            "_view_count": null,
            "_view_module": "@jupyter-widgets/base",
            "_view_module_version": "1.2.0",
            "_view_name": "LayoutView",
            "align_content": null,
            "align_items": null,
            "align_self": null,
            "border": null,
            "bottom": null,
            "display": null,
            "flex": null,
            "flex_flow": null,
            "grid_area": null,
            "grid_auto_columns": null,
            "grid_auto_flow": null,
            "grid_auto_rows": null,
            "grid_column": null,
            "grid_gap": null,
            "grid_row": null,
            "grid_template_areas": null,
            "grid_template_columns": null,
            "grid_template_rows": null,
            "height": null,
            "justify_content": null,
            "justify_items": null,
            "left": null,
            "margin": null,
            "max_height": null,
            "max_width": null,
            "min_height": null,
            "min_width": null,
            "object_fit": null,
            "object_position": null,
            "order": null,
            "overflow": null,
            "overflow_x": null,
            "overflow_y": null,
            "padding": null,
            "right": null,
            "top": null,
            "visibility": null,
            "width": null
          }
        },
        "f8c0fc1c00c442b2b6d89bb34141afb3": {
          "model_module": "@jupyter-widgets/controls",
          "model_module_version": "1.5.0",
          "model_name": "FloatProgressModel",
          "state": {
            "_dom_classes": [],
            "_model_module": "@jupyter-widgets/controls",
            "_model_module_version": "1.5.0",
            "_model_name": "FloatProgressModel",
            "_view_count": null,
            "_view_module": "@jupyter-widgets/controls",
            "_view_module_version": "1.5.0",
            "_view_name": "ProgressView",
            "bar_style": "success",
            "description": "",
            "description_tooltip": null,
            "layout": "IPY_MODEL_809c869b098b42fc898afacb83c53e91",
            "max": 170498071,
            "min": 0,
            "orientation": "horizontal",
            "style": "IPY_MODEL_3a0040c40cd34465ac9f790332b71542",
            "value": 170498071
          }
        },
        "fdd62f0666c146109182abd9d2cb143a": {
          "model_module": "@jupyter-widgets/base",
          "model_module_version": "1.2.0",
          "model_name": "LayoutModel",
          "state": {
            "_model_module": "@jupyter-widgets/base",
            "_model_module_version": "1.2.0",
            "_model_name": "LayoutModel",
            "_view_count": null,
            "_view_module": "@jupyter-widgets/base",
            "_view_module_version": "1.2.0",
            "_view_name": "LayoutView",
            "align_content": null,
            "align_items": null,
            "align_self": null,
            "border": null,
            "bottom": null,
            "display": null,
            "flex": null,
            "flex_flow": null,
            "grid_area": null,
            "grid_auto_columns": null,
            "grid_auto_flow": null,
            "grid_auto_rows": null,
            "grid_column": null,
            "grid_gap": null,
            "grid_row": null,
            "grid_template_areas": null,
            "grid_template_columns": null,
            "grid_template_rows": null,
            "height": null,
            "justify_content": null,
            "justify_items": null,
            "left": null,
            "margin": null,
            "max_height": null,
            "max_width": null,
            "min_height": null,
            "min_width": null,
            "object_fit": null,
            "object_position": null,
            "order": null,
            "overflow": null,
            "overflow_x": null,
            "overflow_y": null,
            "padding": null,
            "right": null,
            "top": null,
            "visibility": null,
            "width": null
          }
        }
      }
    }
  },
  "nbformat": 4,
  "nbformat_minor": 0
}
